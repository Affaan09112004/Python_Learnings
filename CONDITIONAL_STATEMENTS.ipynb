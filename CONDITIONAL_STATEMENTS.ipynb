{
 "cells": [
  {
   "cell_type": "markdown",
   "id": "002df7cf-cf80-47c0-891e-5b6b63406244",
   "metadata": {},
   "source": [
    "# Solved by: Affaan Waghoo  \n",
    "Email: affaanwaghoo.work@gmail.com  \n",
    "LinkedIn: www.linkedin.com/in/affaanwaghoo09112004"
   ]
  },
  {
   "cell_type": "markdown",
   "id": "f03dda4b-da25-4a4c-a13b-1d276ffe08bf",
   "metadata": {},
   "source": [
    " If-Else Questions"
   ]
  },
  {
   "cell_type": "code",
   "execution_count": 5,
   "id": "92100753-63ae-4766-b684-d9b12733d0a3",
   "metadata": {},
   "outputs": [
    {
     "name": "stdin",
     "output_type": "stream",
     "text": [
      "ENTER A POSITIVE NUMBER 20\n"
     ]
    },
    {
     "name": "stdout",
     "output_type": "stream",
     "text": [
      "THE NUMBER 20 is a even number\n"
     ]
    }
   ],
   "source": [
    "# Write a Python program to check if a number is even or odd.\n",
    "num=int(input(\"ENTER A POSITIVE NUMBER\"))\n",
    "if num%2==0:\n",
    "    print(f\"THE NUMBER {num} is a even number\")\n",
    "else:\n",
    "    print(f\"THE NUMBER {num} is a odd number\")"
   ]
  },
  {
   "cell_type": "code",
   "execution_count": 8,
   "id": "55283f64-2b35-4dc7-8363-31bebd55727e",
   "metadata": {},
   "outputs": [
    {
     "name": "stdin",
     "output_type": "stream",
     "text": [
      "PLEASE ENTER YOUR AGE 13\n"
     ]
    },
    {
     "name": "stdout",
     "output_type": "stream",
     "text": [
      "SINCE YOU ARE 13 YEARS OLD \n",
      "YOU ARE NOT ELIGIBLE FOR VOTING\n"
     ]
    }
   ],
   "source": [
    "# Ask the user for their age. If they are 18 or older, \n",
    "# print “You are eligible to vote”, otherwise print “Not eligible \n",
    "age=int(input(\"PLEASE ENTER YOUR AGE\"))\n",
    "if age>=18:\n",
    "    print(\"YOUR ELIGIBLE FOR VOTING\")\n",
    "else:\n",
    "    print(F\"SINCE YOU ARE {age} YEARS OLD \\nYOU ARE NOT ELIGIBLE FOR VOTING\")"
   ]
  },
  {
   "cell_type": "code",
   "execution_count": 10,
   "id": "56abc298-37a0-4bf8-90c4-9fdaad922548",
   "metadata": {},
   "outputs": [
    {
     "name": "stdin",
     "output_type": "stream",
     "text": [
      "ENTER A NUMBER TO CHECK IF IS POSITIVE OR NEGATIVEE -20\n"
     ]
    },
    {
     "name": "stdout",
     "output_type": "stream",
     "text": [
      "THE -20 IS Negative\n"
     ]
    }
   ],
   "source": [
    "# Take a number as input and check if it is positive or negative.\n",
    "num=int(input(\"ENTER A NUMBER TO CHECK IF IS POSITIVE OR NEGATIVEE\"))\n",
    "if num>=0:\n",
    "    print(f\"THE {num} IS POSITIVE\")\n",
    "else:\n",
    "    print(f\"THE {num} IS Negative\")"
   ]
  },
  {
   "cell_type": "code",
   "execution_count": 18,
   "id": "0a4b6bc1-4faa-4246-8b42-81ae1ff5c846",
   "metadata": {},
   "outputs": [
    {
     "name": "stdin",
     "output_type": "stream",
     "text": [
      "ENTER A SINGLE ALPHABET ONLY b\n"
     ]
    },
    {
     "name": "stdout",
     "output_type": "stream",
     "text": [
      "THE GIVEN ALPHABET 'b' IS A CONSONANT\n"
     ]
    }
   ],
   "source": [
    "# Input a character and check if it is a vowel or a consonant \n",
    "a=['a','e','i','o','u']\n",
    "b=['A','E','I','O','U']\n",
    "character=input(\"ENTER A SINGLE ALPHABET ONLY\")\n",
    "if character in a or character in b:\n",
    "    print(f\"THE GIVEN ALPHABET '{character}' IS A VOWEL\")\n",
    "else:\n",
    "    print(f\"THE GIVEN ALPHABET '{character}' IS A CONSONANT\")"
   ]
  },
  {
   "cell_type": "code",
   "execution_count": 19,
   "id": "6bc56c44-8631-4315-9b3e-4b3792a8198e",
   "metadata": {},
   "outputs": [
    {
     "name": "stdin",
     "output_type": "stream",
     "text": [
      "ENTER PASSWORD test@123\n"
     ]
    },
    {
     "name": "stdout",
     "output_type": "stream",
     "text": [
      "ACCESS GRANTED\n"
     ]
    }
   ],
   "source": [
    "# Ask the user to enter a password. If it matches a predefined string, \n",
    "# print “Access granted”, otherwise print “Wrong password”.\n",
    "\n",
    "existing_password=\"test@123\"\n",
    "password=input(\"ENTER PASSWORD\")\n",
    "if password==existing_password:\n",
    "    print(\"ACCESS GRANTED\")\n",
    "else:\n",
    "    print(\"ACESS DENIED\")\n",
    "\n"
   ]
  },
  {
   "cell_type": "markdown",
   "id": "c96b9969-37ed-4363-938b-74c259c62d8a",
   "metadata": {},
   "source": [
    "If-Elif-Else Questions (DO NOT RUN THIS)"
   ]
  },
  {
   "cell_type": "code",
   "execution_count": 23,
   "id": "b5e09958-e64e-4eef-a3b1-d487f42b9ab3",
   "metadata": {},
   "outputs": [
    {
     "name": "stdin",
     "output_type": "stream",
     "text": [
      "ENTER A NUMBER TO CHECK IF THE NUMBER IS POSITIVE ,NEGATIVE OF ZERO 0\n"
     ]
    },
    {
     "name": "stdout",
     "output_type": "stream",
     "text": [
      "0 IS Zero\n"
     ]
    }
   ],
   "source": [
    "# Write a Python program to classify a number as positive, negative, or zero\n",
    "num=int(input('ENTER A NUMBER TO CHECK IF THE NUMBER IS POSITIVE ,NEGATIVE OF ZERO'))\n",
    "if num>0:\n",
    "    print(f'{num} IS A POSITIVE NUMBER')\n",
    "elif num==0:\n",
    "    print(f'{num} IS Zero')\n",
    "else:\n",
    "    print(f'{num} IS A NEGATVIVE NUMBER')\n"
   ]
  },
  {
   "cell_type": "code",
   "execution_count": 29,
   "id": "d033e988-2a61-48a8-8834-26aece635eeb",
   "metadata": {},
   "outputs": [
    {
     "name": "stdin",
     "output_type": "stream",
     "text": [
      "ENTER YOUR MARKS 89.20\n"
     ]
    },
    {
     "name": "stdout",
     "output_type": "stream",
     "text": [
      "B GRADE\n"
     ]
    }
   ],
   "source": [
    "# Ask the user to enter marks. Print the grade based on this:\n",
    "# 90 and above: A\n",
    "# 75 to 89: B\n",
    "# 50 to 74: C\n",
    "# Below 50: F\n",
    "\n",
    "marks=float(input(\"ENTER YOUR MARKS\"))\n",
    "if marks>=90:\n",
    "    print(\"A GRADE\")\n",
    "elif marks>=75:\n",
    "    print(\"B GRADE\")\n",
    "elif marks>=50:\n",
    "    print(\"C GRADE\")\n",
    "elif marks<50:\n",
    "    print(\"FAIL\")\n",
    "else:\n",
    "    print(\"INVALID INPUT\")"
   ]
  },
  {
   "cell_type": "code",
   "execution_count": 32,
   "id": "e57f5938-0ec6-4845-9e51-df922eda39dc",
   "metadata": {},
   "outputs": [
    {
     "name": "stdout",
     "output_type": "stream",
     "text": [
      "1=Monday\n",
      "2=Tuesnday\n",
      "3=Wednesday\n",
      "4=Thursday\n",
      "5=friday\n",
      "6=saturday\n",
      "7=sundays\n"
     ]
    },
    {
     "name": "stdin",
     "output_type": "stream",
     "text": [
      "ENTER THE APPROPIATE NUMBER FOR APPROPIATE WEEKDAY 7\n"
     ]
    },
    {
     "name": "stdout",
     "output_type": "stream",
     "text": [
      "SUNDAY\n"
     ]
    }
   ],
   "source": [
    "# Input a day number (1 to 7) and print the corresponding weekday (1 = Monday, 7 = Sunday).\n",
    "print(\"1=Monday\")\n",
    "print(\"2=Tuesnday\")\n",
    "print(\"3=Wednesday\")\n",
    "print(\"4=Thursday\")\n",
    "print(\"5=friday\")\n",
    "print(\"6=saturday\")\n",
    "print(\"7=sundays\")\n",
    "num=int(input(\"ENTER THE APPROPIATE NUMBER FOR APPROPIATE WEEKDAY\"))\n",
    "if num==1:\n",
    "    print(\"MONDAY\")\n",
    "elif num==2:\n",
    "    print(\"TUESDAY\")\n",
    "elif num==3:\n",
    "    print(\"WEDNESDAY\")\n",
    "elif num==4:\n",
    "    print(\"THURSDAY\")\n",
    "elif num==5:\n",
    "    print(\"FRIDAY\")\n",
    "elif num==6:\n",
    "    print(\"SATURDAY\")\n",
    "elif num==7:\n",
    "    print(\"SUNDAY\")\n",
    "else:\n",
    "    print(\"INVALID INPUT\")\n"
   ]
  },
  {
   "cell_type": "code",
   "execution_count": 40,
   "id": "9e8e3297-c07a-490c-83b2-e186125ffa2c",
   "metadata": {},
   "outputs": [
    {
     "name": "stdin",
     "output_type": "stream",
     "text": [
      "Enter a character:  20\n"
     ]
    },
    {
     "name": "stdout",
     "output_type": "stream",
     "text": [
      "'20' is NOT an alphabet.\n"
     ]
    }
   ],
   "source": [
    "a = ['a', 'e', 'i', 'o', 'u']\n",
    "b = ['A', 'E', 'I', 'O', 'U']\n",
    "character = input(\"Enter a character: \")\n",
    "\n",
    "if not character.isalpha():\n",
    "    print(f\"'{character}' is NOT an alphabet.\")\n",
    "elif character in a or character in b:\n",
    "    print(f\"The given alphabet '{character}' is a VOWEL.\")\n",
    "else:\n",
    "    print(f\"The given alphabet '{character}' is a CONSONANT.\")\n"
   ]
  },
  {
   "cell_type": "code",
   "execution_count": 43,
   "id": "6036e25a-2ca3-4a46-b774-552619ef5edf",
   "metadata": {},
   "outputs": [
    {
     "name": "stdin",
     "output_type": "stream",
     "text": [
      "ENTER TEMPERATURE IN CELSIUS 30\n"
     ]
    },
    {
     "name": "stdout",
     "output_type": "stream",
     "text": [
      "30.0°C is hot\n"
     ]
    }
   ],
   "source": [
    "# Ask the user to enter a temperature in Celsius and print:\n",
    "# “Cold” if below 15\n",
    "# “Moderate” if 15–25\n",
    "# “Hot” if above 25\n",
    "\n",
    "temp=float(input(\"ENTER TEMPERATURE IN CELSIUS\"))\n",
    "if temp>25:\n",
    "    print(f'{temp}°C is hot')\n",
    "elif temp>=15:\n",
    "    print(f'{temp}°C is Moderate')\n",
    "else :\n",
    "    print(f'{temp}°C is Cold')"
   ]
  },
  {
   "cell_type": "markdown",
   "id": "e4293b2a-83f7-4763-8da6-8bd3db838f06",
   "metadata": {},
   "source": [
    "Nested Conditional Statement Questions (DO NOT RUN THIS)"
   ]
  },
  {
   "cell_type": "code",
   "execution_count": 46,
   "id": "207aa408-c387-4116-8ba4-018a062b000d",
   "metadata": {},
   "outputs": [
    {
     "name": "stdin",
     "output_type": "stream",
     "text": [
      "ENTER USERNAME user@123\n",
      "ENTER PASSWORD pass@123\n"
     ]
    },
    {
     "name": "stdout",
     "output_type": "stream",
     "text": [
      "LOGIN SUCESSFULLY\n"
     ]
    }
   ],
   "source": [
    "# Ask the user to enter their username and password. If the username is correct,\n",
    "# check if the password is correct and then print “Login successful”.\n",
    "\n",
    "username=\"user@123\"\n",
    "password=\"pass@123\"\n",
    "user1=input(\"ENTER USERNAME\")\n",
    "pass1=input(\"ENTER PASSWORD\")\n",
    "if user1==username:\n",
    "    if pass1==password:\n",
    "        print(\"LOGIN SUCESSFULLY\")\n",
    "    else:\n",
    "        print(\"INVALID PASSWORD\")\n",
    "else:\n",
    "    print(\"INVALID USERNAME\")"
   ]
  },
  {
   "cell_type": "code",
   "execution_count": 55,
   "id": "5c5fa7c0-88ed-416f-86aa-7f96a4712c3d",
   "metadata": {},
   "outputs": [
    {
     "name": "stdin",
     "output_type": "stream",
     "text": [
      "ENTER A NUMBER -20\n"
     ]
    },
    {
     "name": "stdout",
     "output_type": "stream",
     "text": [
      "NEGATIVE NUMBER\n"
     ]
    }
   ],
   "source": [
    "# Take a number input. If it is positive, check whether it is even or odd.\n",
    "a=int(input(\"ENTER A NUMBER\"))\n",
    "if a>0:\n",
    "    if a%2==0:\n",
    "        print(\"EVEN NUMBER\")\n",
    "    else:\n",
    "        print(\"ODD NUMBER\")\n",
    "else:\n",
    "    print(\"NEGATIVE NUMBER\")"
   ]
  },
  {
   "cell_type": "code",
   "execution_count": 67,
   "id": "fbf906fc-6f52-4413-8eae-63f80c404de6",
   "metadata": {},
   "outputs": [
    {
     "name": "stdin",
     "output_type": "stream",
     "text": [
      "Enter your age:  19\n",
      "Enter your nationality:  india\n"
     ]
    },
    {
     "name": "stdout",
     "output_type": "stream",
     "text": [
      "Eligible to vote in India\n"
     ]
    }
   ],
   "source": [
    "# Ask for age and nationality. If age is above 18, and nationality is “Indian”, print “Eligible to vote in India \n",
    "\n",
    "age = int(input(\"Enter your age: \"))\n",
    "nationality = input(\"Enter your nationality: \")\n",
    "\n",
    "if age >=18:\n",
    "    if nationality.lower() == \"indian\" or nationality.lower() == \"india\":\n",
    "        print(\"Eligible to vote in India\")\n",
    "    else:\n",
    "        print(\"Not eligible to vote in India\")\n",
    "elif nationality.lower() == \"indian\":\n",
    "    print(\"NOT ELIGIBLE BECAUSE OF AGE\")\n",
    "else:\n",
    "    print(\"NOT A INDIAN NATIONALITY\")\n"
   ]
  },
  {
   "cell_type": "code",
   "execution_count": 74,
   "id": "32204d58-6a27-42a3-89c0-baf4c01c64aa",
   "metadata": {},
   "outputs": [
    {
     "name": "stdin",
     "output_type": "stream",
     "text": [
      "ENTER A VALID YEAR 2009\n"
     ]
    },
    {
     "name": "stdout",
     "output_type": "stream",
     "text": [
      "IT IS NOT A LEAP YEAR\n"
     ]
    }
   ],
   "source": [
    "# Ask the user for a year. First check if it is divisible by 4,\n",
    "# then by 100, and then by 400 to determine if it’s a leap year.\n",
    "user=int(input(\"ENTER A VALID YEAR\"))\n",
    "if user%4==0:\n",
    "    print(\"IT IS LEAP YEAR\")\n",
    "    if user%100==0:\n",
    "        print(\"IT IS LEAP YEAR\")\n",
    "        if user%400==0:\n",
    "            print(\"IT IS LEAP YEAR\")\n",
    "else:\n",
    "    print(\"IT IS NOT A LEAP YEAR\")"
   ]
  },
  {
   "cell_type": "code",
   "execution_count": null,
   "id": "b8309e70-2248-495f-b195-7e28515b4fc0",
   "metadata": {},
   "outputs": [],
   "source": []
  }
 ],
 "metadata": {
  "kernelspec": {
   "display_name": "Python 3 (ipykernel)",
   "language": "python",
   "name": "python3"
  },
  "language_info": {
   "codemirror_mode": {
    "name": "ipython",
    "version": 3
   },
   "file_extension": ".py",
   "mimetype": "text/x-python",
   "name": "python",
   "nbconvert_exporter": "python",
   "pygments_lexer": "ipython3",
   "version": "3.12.7"
  }
 },
 "nbformat": 4,
 "nbformat_minor": 5
}
