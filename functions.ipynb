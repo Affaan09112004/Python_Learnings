{
 "cells": [
  {
   "cell_type": "markdown",
   "id": "1251b152-6fd0-4c16-bd5e-7eff6e6fc2e8",
   "metadata": {},
   "source": [
    "FUNCTIONS IN PYTHON "
   ]
  },
  {
   "cell_type": "code",
   "execution_count": 4,
   "id": "8502789c-3572-495c-b6d7-29758df33baa",
   "metadata": {},
   "outputs": [
    {
     "name": "stdout",
     "output_type": "stream",
     "text": [
      "1 odd number\n",
      "2 EVEN NUMBER\n",
      "3 odd number\n",
      "4 EVEN NUMBER\n",
      "5 odd number\n",
      "6 EVEN NUMBER\n"
     ]
    }
   ],
   "source": [
    "# Print Even Number from given list\n",
    "a=[1,2,3,4,5,6]\n",
    "def eveno1(num1):\n",
    "    for i in num1:\n",
    "        if i%2==0:\n",
    "            print(i,\"EVEN NUMBER\")\n",
    "        else:\n",
    "            print(i,\"odd number\")\n",
    "eveno1(a)"
   ]
  },
  {
   "cell_type": "code",
   "execution_count": 8,
   "id": "94e135c1-cc71-4a21-ac37-eda82b52c033",
   "metadata": {},
   "outputs": [
    {
     "name": "stdin",
     "output_type": "stream",
     "text": [
      "ENETER A STRING TO REVERSE IT affaan\n"
     ]
    },
    {
     "name": "stdout",
     "output_type": "stream",
     "text": [
      "naaffa\n"
     ]
    }
   ],
   "source": [
    "# Write a program to reverse a string\n",
    "a=input(\"ENETER A STRING TO REVERSE IT\")\n",
    "def rervarse(str1):\n",
    "    str1=str1[::-1]\n",
    "    print(str1)\n",
    "rervarse(a)\n"
   ]
  },
  {
   "cell_type": "code",
   "execution_count": 9,
   "id": "32326e1a-05b0-4e36-8c62-f5a77d7ac380",
   "metadata": {},
   "outputs": [
    {
     "name": "stdin",
     "output_type": "stream",
     "text": [
      "ENTER FIRST  NUMBER 20\n",
      "ENTER SECOND NUMBER 19\n",
      "ENTER THIRD  NUMBER 21\n"
     ]
    },
    {
     "name": "stdout",
     "output_type": "stream",
     "text": [
      "21.0 IS THE GREATEAST\n"
     ]
    }
   ],
   "source": [
    "# Write a program to reverse a string\n",
    "num1=float(input(\"ENTER FIRST  NUMBER\"))\n",
    "num2=float(input(\"ENTER SECOND NUMBER\"))\n",
    "num3=float(input(\"ENTER THIRD  NUMBER\"))\n",
    "def nambar(x,y,z):\n",
    "    if x>y and x>z:\n",
    "        print(f\"{x} IS THE GREATEAST\")\n",
    "    elif y>x and y>z:\n",
    "        print(f\"{y} IS THE GREATEAST\")\n",
    "    else:\n",
    "        print(f\"{z} IS THE GREATEAST\")\n",
    "nambar(num1,num2,num3)"
   ]
  },
  {
   "cell_type": "code",
   "execution_count": 13,
   "id": "ce7fb7ad-8c55-4a5e-a39e-fac124d0f178",
   "metadata": {},
   "outputs": [
    {
     "name": "stdin",
     "output_type": "stream",
     "text": [
      "Enter a number:  2\n"
     ]
    },
    {
     "name": "stdout",
     "output_type": "stream",
     "text": [
      "2 is a prime number.\n"
     ]
    }
   ],
   "source": [
    "# Check whether number is prime or not\n",
    "num = int(input(\"Enter a number: \"))\n",
    "def prame(n):\n",
    "    if n <= 1:\n",
    "        return False\n",
    "    for i in range(2, n):\n",
    "        if n % i == 0:\n",
    "            return False\n",
    "    return True\n",
    "\n",
    "if prame(num): \n",
    "    print(num, \"is a prime number.\")\n",
    "else:\n",
    "    print(num, \"is not a prime number.\")"
   ]
  },
  {
   "cell_type": "code",
   "execution_count": null,
   "id": "3b8a49cb-9a06-482b-a04e-f3e99e253f0f",
   "metadata": {},
   "outputs": [],
   "source": []
  }
 ],
 "metadata": {
  "kernelspec": {
   "display_name": "Python 3 (ipykernel)",
   "language": "python",
   "name": "python3"
  },
  "language_info": {
   "codemirror_mode": {
    "name": "ipython",
    "version": 3
   },
   "file_extension": ".py",
   "mimetype": "text/x-python",
   "name": "python",
   "nbconvert_exporter": "python",
   "pygments_lexer": "ipython3",
   "version": "3.12.7"
  }
 },
 "nbformat": 4,
 "nbformat_minor": 5
}
